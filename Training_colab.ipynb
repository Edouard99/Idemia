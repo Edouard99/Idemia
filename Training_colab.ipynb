{
  "cells": [
    {
      "cell_type": "markdown",
      "source": [
        "# Import"
      ],
      "metadata": {
        "id": "EPlgz_B1gEZ_"
      }
    },
    {
      "cell_type": "code",
      "source": [
        "!git clone https://github.com/Edouard99/Idemia.git"
      ],
      "metadata": {
        "id": "aksT0A8XZSkt",
        "outputId": "33a607dc-388e-4847-e1f7-fac9575a52b0",
        "colab": {
          "base_uri": "https://localhost:8080/"
        }
      },
      "execution_count": 1,
      "outputs": [
        {
          "output_type": "stream",
          "name": "stdout",
          "text": [
            "Cloning into 'Idemia'...\n",
            "remote: Enumerating objects: 17, done.\u001b[K\n",
            "remote: Counting objects: 100% (17/17), done.\u001b[K\n",
            "remote: Compressing objects: 100% (10/10), done.\u001b[K\n",
            "remote: Total 17 (delta 6), reused 12 (delta 4), pack-reused 0\u001b[K\n",
            "Unpacking objects: 100% (17/17), done.\n"
          ]
        }
      ]
    },
    {
      "cell_type": "code",
      "execution_count": 2,
      "metadata": {
        "id": "oFqqO8EYZIpm",
        "outputId": "ce016a85-7aa7-46c1-b737-0f9bd044f6d3",
        "colab": {
          "base_uri": "https://localhost:8080/"
        }
      },
      "outputs": [
        {
          "output_type": "stream",
          "name": "stdout",
          "text": [
            "Mounted at /content/gdrive\n"
          ]
        }
      ],
      "source": [
        "import torchvision.transforms as transforms\n",
        "import torchvision.datasets as dset\n",
        "import torch\n",
        "import torch.nn\n",
        "import numpy as np \n",
        "import struct\n",
        "import matplotlib.pyplot as plt\n",
        "from torch.utils.data import Dataset\n",
        "from Idemia.facenet_model import *\n",
        "import torch.optim as optim\n",
        "import tqdm\n",
        "import os\n",
        "from google.colab import drive\n",
        "from google.colab import files\n",
        "drive.mount(\"/content/gdrive\", force_remount=True)"
      ]
    },
    {
      "cell_type": "code",
      "execution_count": 3,
      "metadata": {
        "id": "cddW_H6AZIpo"
      },
      "outputs": [],
      "source": [
        "!cp /content/gdrive/MyDrive/Idemia/db_train.raw /content/\n",
        "!cp /content/gdrive/MyDrive/Idemia/db_val.raw /content/\n",
        "!cp /content/gdrive/MyDrive/Idemia/label_train.txt /content/"
      ]
    },
    {
      "cell_type": "code",
      "execution_count": 4,
      "metadata": {
        "id": "f87SfKpvZIpq"
      },
      "outputs": [],
      "source": [
        "with open('./db_train.raw', 'rb') as f:\n",
        "    data = np.fromfile(f, dtype=np.dtype(np.uint8))\n",
        "    data = data.reshape((111430,56, 56, 3))\n",
        "with open('./label_train.txt', 'rb') as f:\n",
        "    label=f.read().splitlines()\n",
        "    for k,elem in enumerate(label):\n",
        "        label[k]=int(elem)\n",
        "    label=np.array(label)"
      ]
    },
    {
      "cell_type": "code",
      "execution_count": 5,
      "metadata": {
        "id": "y7KTXnM5ZIpu"
      },
      "outputs": [],
      "source": [
        "class dataset(Dataset):\n",
        "    def __init__(self, data_0, data_1):\n",
        "        self.samples = []\n",
        "        self.transform=transforms.Compose([  transforms.RandomHorizontalFlip(p=0.5),\n",
        "                                transforms.RandomAffine(20,(0.12,0.12),(0.8,1.2),interpolation=transforms.InterpolationMode.NEAREST,fill=0),\n",
        "                                transforms.Normalize((0.5, 0.5, 0.5), (0.5, 0.5, 0.5))\n",
        "                                ])\n",
        "        for img in data_0:\n",
        "            img=transforms.ToTensor()(img)\n",
        "            self.samples.append((img,0))\n",
        "        for img in data_1:\n",
        "            img=transforms.ToTensor()(img)\n",
        "            self.samples.append((img,1))\n",
        "\n",
        "    def __len__(self):\n",
        "        return len(self.samples)\n",
        "\n",
        "    def __getitem__(self, id):\n",
        "        (img,label)=self.samples[id]\n",
        "        img=self.transform(img)\n",
        "        return (img,label)"
      ]
    },
    {
      "cell_type": "code",
      "execution_count": 6,
      "metadata": {
        "id": "-ZbXOfplZIpw"
      },
      "outputs": [],
      "source": [
        "data_0=data[np.where(label==0)[0]]\n",
        "data_1=data[np.where(label==1)[0]]\n",
        "data_0_t=data_0[:int(len(data_0)*0.7)]\n",
        "data_1_t=data_1[:int(len(data_1)*0.7)]\n",
        "data_0_v=data_0[int(len(data_0)*0.7):]\n",
        "data_1_v=data_1[int(len(data_1)*0.7):]"
      ]
    },
    {
      "cell_type": "code",
      "execution_count": 7,
      "metadata": {
        "id": "Aqmy1n4SZIpx"
      },
      "outputs": [],
      "source": [
        "train_ds=dataset(data_0_t,data_1_t)\n",
        "val_ds=dataset(data_0_v,data_1_v)"
      ]
    },
    {
      "cell_type": "code",
      "execution_count": 8,
      "metadata": {
        "id": "nwmOeFWZZIpx"
      },
      "outputs": [],
      "source": [
        "dataloader_t = torch.utils.data.DataLoader(train_ds,batch_size=32,shuffle=True,drop_last=True)\n",
        "dataloader_v = torch.utils.data.DataLoader(val_ds,batch_size=32,shuffle=True,drop_last=True)"
      ]
    },
    {
      "cell_type": "markdown",
      "metadata": {
        "id": "8atLjUonZIpy"
      },
      "source": [
        "# Model"
      ]
    },
    {
      "cell_type": "code",
      "source": [
        "device= torch.device(\"cuda:0\")"
      ],
      "metadata": {
        "id": "zCsZwuhUjKFL"
      },
      "execution_count": 14,
      "outputs": []
    },
    {
      "cell_type": "code",
      "execution_count": 15,
      "metadata": {
        "id": "eMeBTTFEZIp1"
      },
      "outputs": [],
      "source": [
        "facenet=FaceNet(0.2,0.7,True).to(device)"
      ]
    },
    {
      "cell_type": "code",
      "execution_count": 16,
      "metadata": {
        "id": "bj7pVeX3ZIp4"
      },
      "outputs": [],
      "source": [
        "optimizer = optim.Adam(facenet.parameters(), lr=3e-4, betas=(0.9, 0.999))\n",
        "alpha1=0.2\n",
        "alpha2=0.2\n",
        "num_epochs=7"
      ]
    },
    {
      "cell_type": "code",
      "execution_count": 17,
      "metadata": {
        "id": "EDDhqOBoZIp5"
      },
      "outputs": [],
      "source": [
        "def lossfunction(x,y):\n",
        "    num_0=torch.where(y==0)[0].shape[0]\n",
        "    num_1=x.shape[0]-num_0\n",
        "    w0=0.\n",
        "    w1=0.\n",
        "    if num_0!=0:\n",
        "        w0=torch.divide(x.shape[0],(2*num_0),).float()\n",
        "    if num_1!=0:\n",
        "        w1=torch.divide(x.shape[0],(2*num_1),).float()\n",
        "    w=torch.ones_like(x).float()\n",
        "    w[torch.where(y==0)[0]]=w0\n",
        "    w[torch.where(y==1)[0]]=w1\n",
        "    return torch.nn.BCELoss(w)(x.float(),y.float())"
      ]
    },
    {
      "cell_type": "code",
      "execution_count": 18,
      "metadata": {
        "id": "m8aDv9K8ZIp6",
        "outputId": "391c3a22-66a8-4407-97a7-459e86cdadf6",
        "colab": {
          "base_uri": "https://localhost:8080/"
        }
      },
      "outputs": [
        {
          "output_type": "stream",
          "name": "stderr",
          "text": [
            " 14%|█▍        | 1/7 [03:49<22:59, 229.97s/it]"
          ]
        },
        {
          "output_type": "stream",
          "name": "stdout",
          "text": [
            "Erreur Training [0.40539908 0.42237661 0.41708005 0.40949316] \t Erreur Val 0.34692335743956637\n"
          ]
        },
        {
          "output_type": "stream",
          "name": "stderr",
          "text": [
            "\r 29%|██▊       | 2/7 [07:39<19:09, 229.96s/it]"
          ]
        },
        {
          "output_type": "stream",
          "name": "stdout",
          "text": [
            "Erreur Training [0.30606514 0.31473397 0.31385493 0.30841638] \t Erreur Val 0.27852292144421303\n"
          ]
        },
        {
          "output_type": "stream",
          "name": "stderr",
          "text": [
            "\r 43%|████▎     | 3/7 [11:30<15:21, 230.33s/it]"
          ]
        },
        {
          "output_type": "stream",
          "name": "stdout",
          "text": [
            "Erreur Training [0.26271005 0.27529247 0.26868279 0.26536079] \t Erreur Val 0.2354310997173019\n"
          ]
        },
        {
          "output_type": "stream",
          "name": "stderr",
          "text": [
            "\r 57%|█████▋    | 4/7 [15:22<11:32, 230.81s/it]"
          ]
        },
        {
          "output_type": "stream",
          "name": "stdout",
          "text": [
            "Erreur Training [0.24641797 0.25846378 0.25163862 0.24888461] \t Erreur Val 0.24497054385956218\n"
          ]
        },
        {
          "output_type": "stream",
          "name": "stderr",
          "text": [
            "\r 71%|███████▏  | 5/7 [19:12<07:41, 230.50s/it]"
          ]
        },
        {
          "output_type": "stream",
          "name": "stdout",
          "text": [
            "Erreur Training [0.23406804 0.24683694 0.2411181  0.23689933] \t Erreur Val 0.23792089540796832\n"
          ]
        },
        {
          "output_type": "stream",
          "name": "stderr",
          "text": [
            "\r 86%|████████▌ | 6/7 [23:03<03:50, 230.72s/it]"
          ]
        },
        {
          "output_type": "stream",
          "name": "stdout",
          "text": [
            "Erreur Training [0.22227821 0.23423713 0.22762933 0.22475108] \t Erreur Val 0.21293882679879322\n"
          ]
        },
        {
          "output_type": "stream",
          "name": "stderr",
          "text": [
            "100%|██████████| 7/7 [26:55<00:00, 230.82s/it]"
          ]
        },
        {
          "output_type": "stream",
          "name": "stdout",
          "text": [
            "Erreur Training [0.21559238 0.22787673 0.2221547  0.21828477] \t Erreur Val 0.2095850691738114\n"
          ]
        },
        {
          "output_type": "stream",
          "name": "stderr",
          "text": [
            "\n"
          ]
        }
      ],
      "source": [
        "Loss_train=[]\n",
        "Loss_val=[]\n",
        "for epoch in tqdm.tqdm(range(num_epochs)):\n",
        "    L_t=[]\n",
        "    L_v=[]\n",
        "    cpt=0\n",
        "    facenet.train()\n",
        "    for i, dataj in (enumerate(dataloader_t, 0)):\n",
        "        facenet.zero_grad()\n",
        "        x=dataj[0].float().to(device)\n",
        "        yh=dataj[1].float().to(device)\n",
        "        y,aux1,aux2=facenet(x)\n",
        "        loss=lossfunction(y.view(-1),yh)\n",
        "        loss_aux1=lossfunction(aux1.view(-1),yh)\n",
        "        loss_aux2=lossfunction(aux2.view(-1),yh)\n",
        "        total_loss=(loss+alpha1*loss_aux1+alpha2*loss_aux2)/(1+alpha1+alpha2)\n",
        "        total_loss.backward()\n",
        "        optimizer.step()\n",
        "        L_t.append([loss.item(),loss_aux1.item(),loss_aux2.item(),total_loss.item()])\n",
        "    facenet.eval()\n",
        "    for i, dataj in enumerate(dataloader_v, 0):\n",
        "        x=dataj[0].float().to(device)\n",
        "        yh=dataj[1].float().to(device)\n",
        "        y=facenet(x)\n",
        "        loss=lossfunction(y.view(-1),yh)\n",
        "        L_v.append(loss.item())\n",
        "    \n",
        "    err_t=np.mean(L_t,0)\n",
        "    err_v=np.mean(L_v,0)\n",
        "    Loss_train.append(err_t)\n",
        "    Loss_val.append(err_v)\n",
        "    print(\"Erreur Training {} \\t Erreur Val {}\".format(err_t,err_v))"
      ]
    }
  ],
  "metadata": {
    "kernelspec": {
      "display_name": "Python 3",
      "language": "python",
      "name": "python3"
    },
    "language_info": {
      "codemirror_mode": {
        "name": "ipython",
        "version": 3
      },
      "file_extension": ".py",
      "mimetype": "text/x-python",
      "name": "python",
      "nbconvert_exporter": "python",
      "pygments_lexer": "ipython3",
      "version": "3.9.7"
    },
    "orig_nbformat": 4,
    "vscode": {
      "interpreter": {
        "hash": "acb408c112aa627a318ac6bee697c54a21dc0d988d17c05deacc60f98e48531a"
      }
    },
    "colab": {
      "provenance": [],
      "machine_shape": "hm"
    },
    "accelerator": "GPU",
    "gpuClass": "premium"
  },
  "nbformat": 4,
  "nbformat_minor": 0
}