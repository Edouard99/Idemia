{
  "cells": [
    {
      "cell_type": "markdown",
      "metadata": {
        "id": "EPlgz_B1gEZ_"
      },
      "source": [
        "# Import"
      ]
    },
    {
      "cell_type": "code",
      "execution_count": null,
      "metadata": {
        "colab": {
          "base_uri": "https://localhost:8080/"
        },
        "id": "aksT0A8XZSkt",
        "outputId": "33a607dc-388e-4847-e1f7-fac9575a52b0"
      },
      "outputs": [],
      "source": [
        "!git clone https://github.com/Edouard99/Idemia.git"
      ]
    },
    {
      "cell_type": "code",
      "execution_count": null,
      "metadata": {
        "colab": {
          "base_uri": "https://localhost:8080/"
        },
        "id": "oFqqO8EYZIpm",
        "outputId": "ce016a85-7aa7-46c1-b737-0f9bd044f6d3"
      },
      "outputs": [],
      "source": [
        "import torchvision.transforms as transforms\n",
        "import torchvision.datasets as dset\n",
        "import torch\n",
        "import torch.nn\n",
        "import numpy as np \n",
        "import struct\n",
        "import matplotlib.pyplot as plt\n",
        "from torch.utils.data import Dataset\n",
        "from Idemia.facenet_model import *\n",
        "from Idemia.utils import *\n",
        "import torch.optim as optim\n",
        "import tqdm\n",
        "import os\n",
        "from google.colab import drive\n",
        "from google.colab import files\n",
        "drive.mount(\"/content/gdrive\", force_remount=True)"
      ]
    },
    {
      "cell_type": "code",
      "execution_count": 3,
      "metadata": {
        "id": "cddW_H6AZIpo"
      },
      "outputs": [],
      "source": [
        "!cp /content/gdrive/MyDrive/Idemia/db_train.raw /content/\n",
        "!cp /content/gdrive/MyDrive/Idemia/db_val.raw /content/\n",
        "!cp /content/gdrive/MyDrive/Idemia/label_train.txt /content/\n",
        "!mkdir /content/results/"
      ]
    },
    {
      "cell_type": "code",
      "execution_count": 4,
      "metadata": {
        "id": "f87SfKpvZIpq"
      },
      "outputs": [],
      "source": [
        "with open('./db_train.raw', 'rb') as f:\n",
        "    data = np.fromfile(f, dtype=np.dtype(np.uint8))\n",
        "    data = data.reshape((111430,56, 56, 3))\n",
        "with open('./label_train.txt', 'rb') as f:\n",
        "    label=f.read().splitlines()\n",
        "    for k,elem in enumerate(label):\n",
        "        label[k]=int(elem)\n",
        "    label=np.array(label)"
      ]
    },
    {
      "cell_type": "code",
      "execution_count": 6,
      "metadata": {
        "id": "-ZbXOfplZIpw"
      },
      "outputs": [],
      "source": [
        "data_0=data[np.where(label==0)[0]]\n",
        "data_1=data[np.where(label==1)[0]]\n",
        "data_0_t=data_0[:int(len(data_0)*0.7)]\n",
        "data_1_t=data_1[:int(len(data_1)*0.7)]\n",
        "data_0_v=data_0[int(len(data_0)*0.7):]\n",
        "data_1_v=data_1[int(len(data_1)*0.7):]\n",
        "train_ds=dataset(data_0_t,data_1_t)\n",
        "val_ds=dataset(data_0_v,data_1_v)\n",
        "dataloader_t = torch.utils.data.DataLoader(train_ds,batch_size=32,shuffle=True,drop_last=False)\n",
        "dataloader_v = torch.utils.data.DataLoader(val_ds,batch_size=32,shuffle=True,drop_last=False)"
      ]
    },
    {
      "cell_type": "markdown",
      "metadata": {
        "id": "8atLjUonZIpy"
      },
      "source": [
        "# Model"
      ]
    },
    {
      "cell_type": "code",
      "execution_count": 14,
      "metadata": {
        "id": "zCsZwuhUjKFL"
      },
      "outputs": [],
      "source": [
        "device= torch.device(\"cuda:0\")"
      ]
    },
    {
      "cell_type": "code",
      "execution_count": 15,
      "metadata": {
        "id": "eMeBTTFEZIp1"
      },
      "outputs": [],
      "source": [
        "facenet=FaceNet(0.2,0.7,True).to(device)"
      ]
    },
    {
      "cell_type": "code",
      "execution_count": 16,
      "metadata": {
        "id": "bj7pVeX3ZIp4"
      },
      "outputs": [],
      "source": [
        "optimizer = optim.Adam(facenet.parameters(), lr=3e-4, betas=(0.9, 0.999))\n",
        "scheduler = torch.optim.lr_scheduler.StepLR(optimizer, step_size=4, gamma=0.5,verbose=True)\n",
        "alpha1=0.2\n",
        "alpha2=0.2\n",
        "num_epochs=20\n",
        "threshold=0.5"
      ]
    },
    {
      "cell_type": "code",
      "execution_count": null,
      "metadata": {},
      "outputs": [],
      "source": [
        "training(num_epochs,facenet,optimizer,scheduler,dataloader_t,dataloader_v,device,alpha1,alpha2,threshold,\"/content/results/\")"
      ]
    },
    {
      "attachments": {},
      "cell_type": "markdown",
      "metadata": {},
      "source": [
        "# Data visu & function"
      ]
    },
    {
      "cell_type": "code",
      "execution_count": null,
      "metadata": {},
      "outputs": [],
      "source": [
        "class dataset(Dataset):\n",
        "    def __init__(self, data_0, data_1):\n",
        "        self.samples = []\n",
        "        self.transform=transforms.Compose([  transforms.RandomHorizontalFlip(p=0.5),\n",
        "                                transforms.RandomAffine(20,(0.12,0.12),(0.8,1.2),interpolation=transforms.InterpolationMode.NEAREST,fill=0),\n",
        "                                transforms.Normalize((0.5, 0.5, 0.5), (0.5, 0.5, 0.5))\n",
        "                                ])\n",
        "        for img in data_0:\n",
        "            img=transforms.ToTensor()(img)\n",
        "            self.samples.append((img,0))\n",
        "        for img in data_1:\n",
        "            img=transforms.ToTensor()(img)\n",
        "            self.samples.append((img,1))\n",
        "\n",
        "    def __len__(self):\n",
        "        return len(self.samples)\n",
        "\n",
        "    def __getitem__(self, id):\n",
        "        (img,label)=self.samples[id]\n",
        "        img=self.transform(img)\n",
        "        return (img,label)"
      ]
    },
    {
      "cell_type": "code",
      "execution_count": 17,
      "metadata": {
        "id": "EDDhqOBoZIp5"
      },
      "outputs": [],
      "source": [
        "def lossfunction(x,y):\n",
        "    num_0=torch.where(y==0)[0].shape[0]\n",
        "    num_1=x.shape[0]-num_0\n",
        "    w0=0.\n",
        "    w1=0.\n",
        "    if num_0!=0:\n",
        "        w0=torch.divide(x.shape[0],(2*num_0),).float()\n",
        "    if num_1!=0:\n",
        "        w1=torch.divide(x.shape[0],(2*num_1),).float()\n",
        "    w=torch.ones_like(x).float()\n",
        "    w[torch.where(y==0)[0]]=w0\n",
        "    w[torch.where(y==1)[0]]=w1\n",
        "    return torch.nn.BCELoss(w)(x.float(),y.float())"
      ]
    },
    {
      "cell_type": "code",
      "execution_count": 27,
      "metadata": {
        "colab": {
          "base_uri": "https://localhost:8080/"
        },
        "id": "m8aDv9K8ZIp6",
        "outputId": "391c3a22-66a8-4407-97a7-459e86cdadf6"
      },
      "outputs": [],
      "source": [
        "def training(num_epochs,facenet,optimizer,scheduler,dataloader_t,dataloader_v,device,alpha1,alpha2,threshold,path):\n",
        "\n",
        "    Loss_train_train=[]\n",
        "    Loss_train_eval=[]\n",
        "    Loss_val_eval=[]\n",
        "    for epoch in tqdm.tqdm(range(num_epochs)):\n",
        "        L_t_t=[]\n",
        "        L_t_e=[]\n",
        "        L_v_e=[]\n",
        "        tp_t,fn_t,tn_t,fp_t=0,0,0,0\n",
        "        tp_v,fn_v,tn_v,fp_v=0,0,0,0\n",
        "\n",
        "        facenet.train()\n",
        "        for i, dataj in (enumerate(dataloader_t, 0)):\n",
        "            facenet.zero_grad()\n",
        "            x=dataj[0].float().to(device)\n",
        "            gt=dataj[1].float().to(device)\n",
        "            y,aux1,aux2=facenet(x)\n",
        "            loss=lossfunction(y.view(-1),gt)\n",
        "            loss_aux1=lossfunction(aux1.view(-1),gt)\n",
        "            loss_aux2=lossfunction(aux2.view(-1),gt)\n",
        "            total_loss=(loss+alpha1*loss_aux1+alpha2*loss_aux2)/(1+alpha1+alpha2)\n",
        "            total_loss.backward()\n",
        "            optimizer.step()\n",
        "            L_t_t.append([loss.item(),loss_aux1.item(),loss_aux2.item(),total_loss.item()])\n",
        "            \n",
        "        facenet.eval()\n",
        "        for i, dataj in enumerate(dataloader_t, 0):\n",
        "            x=dataj[0].float().to(device)\n",
        "            yh=dataj[1].float().to(device)\n",
        "            y=facenet(x).view(-1)\n",
        "            loss=lossfunction(y,gt)\n",
        "            L_t_e.append(loss.item())\n",
        "            pred=y>threshold\n",
        "            gt=yh\n",
        "            tp_t+=torch.sum(((y>0.5)==gt)[torch.where((gt)==1)]).item()#TP\n",
        "            fn_t+=torch.sum(((y>0.5)!=gt)[torch.where((gt)==1)]).item()#FN\n",
        "            tn_t+=torch.sum(((y>0.5)==gt)[torch.where((gt)==0)]).item()#TN\n",
        "            fp_t+=torch.sum(((y>0.5)!=gt)[torch.where((gt)==0)]).item()#FP\n",
        "        for i, dataj in enumerate(dataloader_v, 0):\n",
        "            x=dataj[0].float().to(device)\n",
        "            gt=dataj[1].float().to(device)\n",
        "            y=facenet(x).view(-1)\n",
        "            loss=lossfunction(y,gt)\n",
        "            L_v_e.append(loss.item())\n",
        "            pred=y>threshold\n",
        "            tp_v+=torch.sum(((y>0.5)==gt)[torch.where((gt)==1)]).item()#TP\n",
        "            fn_v+=torch.sum(((y>0.5)!=gt)[torch.where((gt)==1)]).item()#FN\n",
        "            tn_v+=torch.sum(((y>0.5)==gt)[torch.where((gt)==0)]).item()#TN\n",
        "            fp_v+=torch.sum(((y>0.5)!=gt)[torch.where((gt)==0)]).item()#FP\n",
        "        far_v=fp_v/(tn_v+fp_v)\n",
        "        frr_v=fn_v/(tp_v+fn_v)\n",
        "        far_t=fp_t/(tn_t+fp_t)\n",
        "        frr_t=fn_t/(tp_t+fn_t)\n",
        "        hter_t=0.5*(far_t+frr_t)\n",
        "        hter_v=0.5*(far_v+frr_v)\n",
        "        scheduler.step()\n",
        "        err_t_t=np.mean(L_t_t,0)\n",
        "        err_t_e=np.mean(L_t_e,0)\n",
        "        err_v_e=np.mean(L_v_e,0)\n",
        "        Loss_train_train.append(err_t_t)\n",
        "        Loss_train_eval.append(err_t_e)\n",
        "        Loss_val_eval.append(err_v_e)\n",
        "        print(\"Training : Loss {} ||| Hter {} \\t Validation : Loss {} ||| Hter {}\".format(err_t_e,hter_t,err_v_e,hter_v))\n",
        "        torch.save({\n",
        "            'epoch': epoch,\n",
        "            'model_state_dict': facenet.state_dict(),\n",
        "            'optimizer_state_dict': optimizer.state_dict(),\n",
        "            'loss_train_train': Loss_train_train,\n",
        "            'loss_train_eval': Loss_train_eval,\n",
        "            'loss_val_eval':Loss_val_eval,\n",
        "            'metrics_train':{'tp':tp_t,'fn':fn_t,'fp':fp_t,'tn':tn_t,'far':far_t,'frr':frr_t,'hter':hter_t},\n",
        "            'metrics_val':{'tp':tp_v,'fn':fn_v,'fp':fp_v,'tn':tn_v,'far':far_v,'frr':frr_v,'hter':hter_v}\n",
        "            }, path+\"checkpoint_{}.pth\".format(epoch))"
      ]
    },
    {
      "cell_type": "code",
      "execution_count": null,
      "metadata": {},
      "outputs": [],
      "source": [
        "\n",
        "threshold=0.5\n",
        "facenet.eval()\n",
        "tp,fn,tn,fp=0,0,0,0\n",
        "for dataj in enumerate(dataloader_t):\n",
        "    x=dataj[0].float().to(device)\n",
        "    yh=dataj[1].float().to(device)\n",
        "    y=facenet(x).view(-1)\n",
        "    pred=y>threshold\n",
        "    gt=yh\n",
        "    tp+=torch.sum(((y>0.5)==gt)[torch.where((gt)==1)]).item()#TP\n",
        "    fn+=torch.sum(((y>0.5)!=gt)[torch.where((gt)==1)]).item()#FN\n",
        "    tn+=torch.sum(((y>0.5)==gt)[torch.where((gt)==0)]).item()#TN\n",
        "    fp+=torch.sum(((y>0.5)!=gt)[torch.where((gt)==0)]).item()#FP\n",
        "far_t=fp/(tn+fp)\n",
        "frr_t=fn/(tp+fn)\n",
        "tp,fn,tn,fp=0,0,0,0\n",
        "for dataj in enumerate(dataloader_v):\n",
        "    x=dataj[0].float().to(device)\n",
        "    yh=dataj[1].float().to(device)\n",
        "    y=facenet(x).view(-1)\n",
        "    pred=y>threshold\n",
        "    gt=yh\n",
        "    tp+=torch.sum(((y>0.5)==gt)[torch.where((gt)==1)]).item()#TP\n",
        "    fn+=torch.sum(((y>0.5)!=gt)[torch.where((gt)==1)]).item()#FN\n",
        "    tn+=torch.sum(((y>0.5)==gt)[torch.where((gt)==0)]).item()#TN\n",
        "    fp+=torch.sum(((y>0.5)!=gt)[torch.where((gt)==0)]).item()#FP\n",
        "far_v=fp/(tn+fp)\n",
        "frr_v=fn/(tp+fn)\n",
        "\n",
        "hter_t=0.5*(far_t+frr_t)\n",
        "hter_v=0.5*(far_v+frr_v)\n",
        "print(hter_t,hter_v)"
      ]
    },
    {
      "cell_type": "code",
      "execution_count": null,
      "metadata": {},
      "outputs": [],
      "source": [
        "facenet.eval()\n",
        "tp=[]\n",
        "fp=[]\n",
        "tn=[]\n",
        "fn=[]\n",
        "threshold=0.5\n",
        "for i, dataj in enumerate(dataloader_v, 0):\n",
        "    x=dataj[0].float().to(device)\n",
        "    yh=dataj[1].float().to(device)\n",
        "    y=facenet(x).view(-1)\n",
        "    pred=y>threshold\n",
        "    gt=yh\n",
        "    x_fn=x[torch.where(( (y>0.5)!=gt) & (gt==1))]\n",
        "    x_fp=x[torch.where(( (y>0.5)!=gt) & (gt==0))]\n",
        "    x_tp=x[torch.where(( (y>0.5)==gt) & (gt==1))]\n",
        "    x_tn=x[torch.where(( (y>0.5)==gt) & (gt==0))]\n",
        "    if x_fn.shape[0]!=0:\n",
        "      fn.append(x_fn.cpu().numpy())\n",
        "    if x_fp.shape[0]!=0:\n",
        "      fp.append(x_fp.cpu().numpy())\n",
        "    if x_tp.shape[0]!=0:\n",
        "      tp.append(x_tp.cpu().numpy())\n",
        "    if x_tn.shape[0]!=0:\n",
        "      tn.append(x_tn.cpu().numpy())"
      ]
    },
    {
      "cell_type": "code",
      "execution_count": null,
      "metadata": {},
      "outputs": [],
      "source": [
        "nb_tp=0\n",
        "nb_tn=0\n",
        "nb_fp=0\n",
        "nb_fn=0\n",
        "for elem in tp:\n",
        "  nb_tp+=elem.shape[0]\n",
        "for elem in tn:\n",
        "  nb_tn+=elem.shape[0]\n",
        "for elem in fp:\n",
        "  nb_fp+=elem.shape[0]\n",
        "for elem in fn:\n",
        "  nb_fn+=elem.shape[0]"
      ]
    },
    {
      "cell_type": "code",
      "execution_count": null,
      "metadata": {},
      "outputs": [],
      "source": [
        "far=nb_fp/(nb_fp+nb_tn)\n",
        "frr=nb_fn/(nb_tp+nb_fn)\n",
        "hter=0.5*(far+frr)\n",
        "print(far, frr, hter)"
      ]
    },
    {
      "cell_type": "code",
      "execution_count": null,
      "metadata": {},
      "outputs": [],
      "source": [
        "transform_to_img=transforms.Compose([   transforms.Normalize([0,0,0],[2,2,2]),\n",
        "                                        transforms.Normalize([-0.5,-0.5,-0.5],[1,1,1]), \n",
        "                                        transforms.ConvertImageDtype(torch.uint8)\n",
        "                                    ])"
      ]
    },
    {
      "cell_type": "code",
      "execution_count": null,
      "metadata": {},
      "outputs": [],
      "source": [
        "for elem in tn[20:40]:\n",
        "    img=elem[0]\n",
        "    img=transform_to_img(torch.tensor(img))\n",
        "    img=torch.transpose(img,0,1)\n",
        "    img=torch.transpose(img,1,2)\n",
        "    img=img.numpy()\n",
        "    plt.imshow(img)\n",
        "    plt.show()"
      ]
    }
  ],
  "metadata": {
    "accelerator": "GPU",
    "colab": {
      "machine_shape": "hm",
      "provenance": []
    },
    "gpuClass": "premium",
    "kernelspec": {
      "display_name": "Python 3",
      "language": "python",
      "name": "python3"
    },
    "language_info": {
      "codemirror_mode": {
        "name": "ipython",
        "version": 3
      },
      "file_extension": ".py",
      "mimetype": "text/x-python",
      "name": "python",
      "nbconvert_exporter": "python",
      "pygments_lexer": "ipython3",
      "version": "3.9.7"
    },
    "orig_nbformat": 4,
    "vscode": {
      "interpreter": {
        "hash": "acb408c112aa627a318ac6bee697c54a21dc0d988d17c05deacc60f98e48531a"
      }
    }
  },
  "nbformat": 4,
  "nbformat_minor": 0
}
