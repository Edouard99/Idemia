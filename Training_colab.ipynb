{
  "cells": [
    {
      "cell_type": "markdown",
      "metadata": {
        "id": "EPlgz_B1gEZ_"
      },
      "source": [
        "# Import"
      ]
    },
    {
      "cell_type": "code",
      "execution_count": null,
      "metadata": {
        "colab": {
          "base_uri": "https://localhost:8080/"
        },
        "id": "aksT0A8XZSkt",
        "outputId": "33a607dc-388e-4847-e1f7-fac9575a52b0"
      },
      "outputs": [],
      "source": [
        "!git clone https://github.com/Edouard99/Idemia.git"
      ]
    },
    {
      "cell_type": "code",
      "execution_count": null,
      "metadata": {
        "colab": {
          "base_uri": "https://localhost:8080/"
        },
        "id": "oFqqO8EYZIpm",
        "outputId": "ce016a85-7aa7-46c1-b737-0f9bd044f6d3"
      },
      "outputs": [],
      "source": [
        "import torchvision.transforms as transforms\n",
        "import torchvision.datasets as dset\n",
        "import torch\n",
        "import torch.nn\n",
        "import numpy as np \n",
        "import struct\n",
        "import matplotlib.pyplot as plt\n",
        "from torch.utils.data import Dataset\n",
        "from Idemia.facenet_model import *\n",
        "from Idemia.utils import *\n",
        "import torch.optim as optim\n",
        "import tqdm\n",
        "import os\n",
        "from google.colab import drive\n",
        "from google.colab import files\n",
        "drive.mount(\"/content/gdrive\", force_remount=True)"
      ]
    },
    {
      "cell_type": "code",
      "execution_count": 3,
      "metadata": {
        "id": "cddW_H6AZIpo"
      },
      "outputs": [],
      "source": [
        "!cp /content/gdrive/MyDrive/Idemia/db_train.raw /content/\n",
        "!cp /content/gdrive/MyDrive/Idemia/db_val.raw /content/\n",
        "!cp /content/gdrive/MyDrive/Idemia/label_train.txt /content/\n",
        "!mkdir /content/results/"
      ]
    },
    {
      "attachments": {},
      "cell_type": "markdown",
      "metadata": {},
      "source": [
        "# Init Data"
      ]
    },
    {
      "cell_type": "code",
      "execution_count": null,
      "metadata": {},
      "outputs": [],
      "source": [
        "train_ds,val_ds=generate_datasets('./db_train.raw','./label_train.txt',0.7) #Generate Dataset from data, label and dividing the data according to a ratio\n",
        "dataloader_t = torch.utils.data.DataLoader(train_ds,batch_size=32,shuffle=True,drop_last=False) #Dataloader train set\n",
        "dataloader_v = torch.utils.data.DataLoader(val_ds,batch_size=32,shuffle=True,drop_last=False) #Dataloader validation set"
      ]
    },
    {
      "cell_type": "markdown",
      "metadata": {
        "id": "8atLjUonZIpy"
      },
      "source": [
        "# Model"
      ]
    },
    {
      "cell_type": "code",
      "execution_count": 15,
      "metadata": {
        "id": "eMeBTTFEZIp1"
      },
      "outputs": [],
      "source": [
        "device= torch.device(\"cuda:0\")\n",
        "facenet=FaceNet(0.2,0.7,True).to(device) #Creates the model"
      ]
    },
    {
      "cell_type": "code",
      "execution_count": 16,
      "metadata": {
        "id": "bj7pVeX3ZIp4"
      },
      "outputs": [],
      "source": [
        "optimizer = optim.Adam(facenet.parameters(), lr=3e-4, betas=(0.9, 0.999)) #Adam Optimizer \n",
        "scheduler = torch.optim.lr_scheduler.StepLR(optimizer, step_size=5, gamma=0.3,verbose=True) #Learning rate scheduler\n",
        "alpha1=0.2 #weight of the loss of the first intermediate output of the net used\n",
        "alpha2=0.2 #weight of the loss of the second intermediate output of the net used\n",
        "num_epochs=26\n",
        "threshold=0.5"
      ]
    },
    {
      "cell_type": "code",
      "execution_count": null,
      "metadata": {},
      "outputs": [],
      "source": [
        "training(num_epochs,facenet,optimizer,scheduler,dataloader_t,dataloader_v,device,alpha1,alpha2,threshold,\"/content/results/\")"
      ]
    },
    {
      "cell_type": "code",
      "execution_count": null,
      "metadata": {},
      "outputs": [],
      "source": [
        "!zip -q /content/results_1.zip -r /content/results\n",
        "!cp /content/results_1.zip /content/gdrive/MyDrive/Idemia/"
      ]
    },
    {
      "attachments": {},
      "cell_type": "markdown",
      "metadata": {},
      "source": [
        "# Test"
      ]
    },
    {
      "cell_type": "code",
      "execution_count": null,
      "metadata": {},
      "outputs": [],
      "source": [
        "\"\"\" This cell can generate a dataset from data path & label path\"\"\"\n",
        "\n",
        "test_ds=generate_datasets_test(path_images,path_label)\n",
        "dataloader_test = torch.utils.data.DataLoader(test_ds,batch_size=32,shuffle=True,drop_last=False) #Dataloader train set"
      ]
    },
    {
      "cell_type": "code",
      "execution_count": null,
      "metadata": {},
      "outputs": [],
      "source": [
        "\"\"\" This cell creates the model for testing and initialize the model with a defined checkpoint (weights of the model)\"\"\"\n",
        "device= torch.device(\"cuda:0\")\n",
        "checkpoint=torch.load(\"\")\n",
        "facenet=create_test_model(0.2,0.7,device,checkpoint)"
      ]
    },
    {
      "cell_type": "code",
      "execution_count": null,
      "metadata": {},
      "outputs": [],
      "source": [
        "\"\"\" Compute the prediction on the dataloader on test set and compute the Hter score of the set\"\"\"\n",
        "threshold=0.5\n",
        "tp,tn,fp,fn=0,0,0,0\n",
        "for i, dataj in enumerate(dataloader_test, 0): #Evaluation on validation set\n",
        "    x=dataj[0].float().to(device)\n",
        "    gt=dataj[1].float().to(device)\n",
        "    y=facenet(x).view(-1)\n",
        "    pred=y>threshold\n",
        "    tp+=torch.sum(((pred)==gt)[torch.where((gt)==1)]).item()#TP\n",
        "    fn+=torch.sum(((pred)!=gt)[torch.where((gt)==1)]).item()#FN\n",
        "    tn+=torch.sum(((pred)==gt)[torch.where((gt)==0)]).item()#TN\n",
        "    fp+=torch.sum(((pred)!=gt)[torch.where((gt)==0)]).item()#FP\n",
        "far=fp/(tn+fp)\n",
        "frr=fn/(tp+fn)\n",
        "hter=0.5*(far+frr)\n",
        "print(\"Hter : {} \\n\".format(hter))"
      ]
    },
    {
      "attachments": {},
      "cell_type": "markdown",
      "metadata": {},
      "source": [
        "# Test Prediction"
      ]
    },
    {
      "cell_type": "code",
      "execution_count": null,
      "metadata": {},
      "outputs": [],
      "source": [
        "with open('/content/db_val.raw', 'rb') as f: #Loading Test images\n",
        "    data = np.fromfile(f, dtype=np.dtype(np.uint8))\n",
        "    data = data.reshape((-1,56, 56, 3))"
      ]
    },
    {
      "cell_type": "code",
      "execution_count": null,
      "metadata": {},
      "outputs": [],
      "source": [
        "device= torch.device(\"cuda:0\")\n",
        "checkpoint=torch.load(\"/content/final.pth\")\n",
        "facenet=create_test_model(0.2,0.7,device,checkpoint) #Create the model with the weights of the epoch 18 (best epoch for validation value)"
      ]
    },
    {
      "cell_type": "code",
      "execution_count": null,
      "metadata": {},
      "outputs": [],
      "source": [
        "\"\"\" Making Prediction on the data\"\"\"\n",
        "\n",
        "threshold=0.5\n",
        "output=[] #Raw output of the network\n",
        "prediction=[] #0 or 1 depending if the output of the network is >1 or <1\n",
        "for img in tqdm.tqdm(data):\n",
        "    x=transforms.ToTensor()(img).unsqueeze(0).float().to(device)\n",
        "    y=facenet(x).view(-1)\n",
        "    pred=y>threshold\n",
        "    output.append(y.item())\n",
        "    prediction.append(pred.item())"
      ]
    },
    {
      "cell_type": "code",
      "execution_count": null,
      "metadata": {},
      "outputs": [],
      "source": [
        "with open('/content/test_net_output.txt','w') as f: #Writing rawoutput in a txt file\n",
        "    for y in output:\n",
        "        f.write(\"{}\\n\".format(y))\n",
        "    print('Done')"
      ]
    },
    {
      "cell_type": "code",
      "execution_count": null,
      "metadata": {},
      "outputs": [],
      "source": [
        "with open('/content/test_labeled.txt','w') as f: #Writing predicted label of the data in a txt file\n",
        "    for y in prediction:\n",
        "        if y==True:\n",
        "          f.write(\"1\\n\")\n",
        "        else:\n",
        "          f.write(\"0\\n\")\n",
        "    print('Done')"
      ]
    }
  ],
  "metadata": {
    "accelerator": "GPU",
    "colab": {
      "machine_shape": "hm",
      "provenance": []
    },
    "gpuClass": "premium",
    "kernelspec": {
      "display_name": "Python 3",
      "language": "python",
      "name": "python3"
    },
    "language_info": {
      "codemirror_mode": {
        "name": "ipython",
        "version": 3
      },
      "file_extension": ".py",
      "mimetype": "text/x-python",
      "name": "python",
      "nbconvert_exporter": "python",
      "pygments_lexer": "ipython3",
      "version": "3.9.7 (tags/v3.9.7:1016ef3, Aug 30 2021, 20:19:38) [MSC v.1929 64 bit (AMD64)]"
    },
    "orig_nbformat": 4,
    "vscode": {
      "interpreter": {
        "hash": "acb408c112aa627a318ac6bee697c54a21dc0d988d17c05deacc60f98e48531a"
      }
    }
  },
  "nbformat": 4,
  "nbformat_minor": 0
}
