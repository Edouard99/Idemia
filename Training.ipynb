{
 "cells": [
  {
   "attachments": {},
   "cell_type": "markdown",
   "metadata": {},
   "source": [
    "# Import"
   ]
  },
  {
   "cell_type": "code",
   "execution_count": null,
   "metadata": {},
   "outputs": [],
   "source": [
    "import torchvision.transforms as transforms\n",
    "import torchvision.datasets as dset\n",
    "import torch\n",
    "import torch.nn\n",
    "import numpy as np \n",
    "import struct\n",
    "import matplotlib.pyplot as plt\n",
    "from torch.utils.data import Dataset\n",
    "from facenet_model import *\n",
    "from utils import *\n",
    "import torch.optim as optim\n",
    "import tqdm\n",
    "import os"
   ]
  },
  {
   "attachments": {},
   "cell_type": "markdown",
   "metadata": {},
   "source": [
    "# Init Data"
   ]
  },
  {
   "cell_type": "code",
   "execution_count": null,
   "metadata": {},
   "outputs": [],
   "source": [
    "PATH_RESULTS=\"\"\n",
    "CHECKPOINT_PATH=\"\""
   ]
  },
  {
   "cell_type": "code",
   "execution_count": 3,
   "metadata": {},
   "outputs": [],
   "source": [
    "train_ds,val_ds=generate_datasets('./db_train.raw','./label_train.txt',0.7)\n",
    "dataloader_t = torch.utils.data.DataLoader(train_ds,batch_size=32,shuffle=True,drop_last=False)\n",
    "dataloader_v = torch.utils.data.DataLoader(val_ds,batch_size=32,shuffle=True,drop_last=False)"
   ]
  },
  {
   "attachments": {},
   "cell_type": "markdown",
   "metadata": {},
   "source": [
    "# Model"
   ]
  },
  {
   "cell_type": "code",
   "execution_count": 30,
   "metadata": {},
   "outputs": [],
   "source": [
    "device= torch.device(\"cpu\")\n",
    "facenet=FaceNet(0.2,0.7,True).to(device)"
   ]
  },
  {
   "cell_type": "code",
   "execution_count": 31,
   "metadata": {},
   "outputs": [],
   "source": [
    "optimizer = optim.Adam(facenet.parameters(), lr=3e-4, betas=(0.9, 0.999))\n",
    "scheduler = torch.optim.lr_scheduler.StepLR(optimizer, step_size=5, gamma=0.5,verbose=True)\n",
    "alpha1=0.2\n",
    "alpha2=0.2\n",
    "num_epochs=30\n",
    "threshold=0.5\n",
    "if CHECKPOINT_PATH=!\"\":\n",
    "    checkpoint=torch.load(CHECKPOINT_PATH)\n",
    "else:\n",
    "    checkpoint=None"
   ]
  },
  {
   "cell_type": "code",
   "execution_count": null,
   "metadata": {},
   "outputs": [],
   "source": [
    "training(num_epochs,facenet,optimizer,scheduler,dataloader_t,dataloader_v,device,alpha1,alpha2,threshold,PATH_RESULTS,checkpoint)"
   ]
  },
  {
   "attachments": {},
   "cell_type": "markdown",
   "metadata": {},
   "source": [
    "# Test"
   ]
  },
  {
   "cell_type": "code",
   "execution_count": null,
   "metadata": {},
   "outputs": [],
   "source": [
    "test_ds=generate_datasets_test(path_images,path_label)\n",
    "dataloader_test = torch.utils.data.DataLoader(test_ds,batch_size=32,shuffle=True,drop_last=False) #Dataloader train set"
   ]
  },
  {
   "cell_type": "code",
   "execution_count": null,
   "metadata": {},
   "outputs": [],
   "source": [
    "device= torch.device(\"cuda:0\")\n",
    "checkpoint=torch.load(\"\")\n",
    "facenet=create_test_model(0.2,0.7,device,checkpoint)"
   ]
  },
  {
   "cell_type": "code",
   "execution_count": null,
   "metadata": {},
   "outputs": [],
   "source": [
    "threshold=0.5\n",
    "tp,tn,fp,fn=0,0,0,0\n",
    "for i, dataj in enumerate(dataloader_test, 0): #Evaluation on validation set\n",
    "    x=dataj[0].float().to(device)\n",
    "    gt=dataj[1].float().to(device)\n",
    "    y=facenet(x).view(-1)\n",
    "    pred=y>threshold\n",
    "    tp+=torch.sum(((pred)==gt)[torch.where((gt)==1)]).item()#TP\n",
    "    fn+=torch.sum(((pred)!=gt)[torch.where((gt)==1)]).item()#FN\n",
    "    tn+=torch.sum(((pred)==gt)[torch.where((gt)==0)]).item()#TN\n",
    "    fp+=torch.sum(((pred)!=gt)[torch.where((gt)==0)]).item()#FP\n",
    "far=fp/(tn+fp)\n",
    "frr=fn/(tp+fn)\n",
    "hter=0.5*(far+frr)\n",
    "print(\"Hter : {} \\n\".format(hter))"
   ]
  }
 ],
 "metadata": {
  "kernelspec": {
   "display_name": "Python 3",
   "language": "python",
   "name": "python3"
  },
  "language_info": {
   "codemirror_mode": {
    "name": "ipython",
    "version": 3
   },
   "file_extension": ".py",
   "mimetype": "text/x-python",
   "name": "python",
   "nbconvert_exporter": "python",
   "pygments_lexer": "ipython3",
   "version": "3.9.7 (tags/v3.9.7:1016ef3, Aug 30 2021, 20:19:38) [MSC v.1929 64 bit (AMD64)]"
  },
  "orig_nbformat": 4,
  "vscode": {
   "interpreter": {
    "hash": "acb408c112aa627a318ac6bee697c54a21dc0d988d17c05deacc60f98e48531a"
   }
  }
 },
 "nbformat": 4,
 "nbformat_minor": 2
}
